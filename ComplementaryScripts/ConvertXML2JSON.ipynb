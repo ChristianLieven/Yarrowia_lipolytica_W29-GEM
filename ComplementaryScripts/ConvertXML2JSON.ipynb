{
 "cells": [
  {
   "cell_type": "code",
   "execution_count": 1,
   "metadata": {},
   "outputs": [],
   "source": [
    "import cobra"
   ]
  },
  {
   "cell_type": "code",
   "execution_count": 4,
   "metadata": {},
   "outputs": [
    {
     "name": "stdout",
     "output_type": "stream",
     "text": [
      "\n",
      "System Information\n",
      "==================\n",
      "OS         Darwin\n",
      "OS-release 18.2.0\n",
      "Python      3.6.0\n",
      "\n",
      "Package Versions\n",
      "================\n",
      "cobra                        0.15.3\n",
      "depinfo                       1.5.1\n",
      "future                       0.17.1\n",
      "numpy                        1.16.2\n",
      "optlang                       1.4.4\n",
      "pandas                       0.24.2\n",
      "pip                          19.1.1\n",
      "python-libsbml-experimental  5.18.0\n",
      "ruamel.yaml                 0.15.89\n",
      "setuptools                   28.8.0\n",
      "six                          1.12.0\n",
      "swiglpk                      4.65.0\n",
      "tabulate                      0.8.3\n"
     ]
    }
   ],
   "source": [
    "cobra.show_versions()"
   ]
  },
  {
   "cell_type": "code",
   "execution_count": 5,
   "metadata": {},
   "outputs": [],
   "source": [
    "yali = cobra.io.read_sbml_model(\"../ModelFiles/xml/iYali.xml\")"
   ]
  },
  {
   "cell_type": "code",
   "execution_count": 7,
   "metadata": {},
   "outputs": [],
   "source": [
    "cobra.io.save_json_model(yali, \"../ModelFiles/json/iYali.json\", True, True)"
   ]
  },
  {
   "cell_type": "code",
   "execution_count": null,
   "metadata": {},
   "outputs": [],
   "source": []
  }
 ],
 "metadata": {
  "kernelspec": {
   "display_name": "Python 3",
   "language": "python",
   "name": "python3"
  },
  "language_info": {
   "codemirror_mode": {
    "name": "ipython",
    "version": 3
   },
   "file_extension": ".py",
   "mimetype": "text/x-python",
   "name": "python",
   "nbconvert_exporter": "python",
   "pygments_lexer": "ipython3",
   "version": "3.6.0"
  }
 },
 "nbformat": 4,
 "nbformat_minor": 2
}
